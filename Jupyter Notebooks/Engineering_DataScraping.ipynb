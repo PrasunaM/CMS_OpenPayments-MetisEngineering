{
 "cells": [
  {
   "cell_type": "markdown",
   "metadata": {},
   "source": [
    "In this notebook, data was-\n",
    "\n",
    "1.Data was acquired using scraping \n",
    "2."
   ]
  },
  {
   "cell_type": "raw",
   "metadata": {},
   "source": [
    "https://openpaymentsdata.cms.gov/dataset/General-Payment-Data-Detailed-Dataset-2020-Reporti/txng-a8vj/data"
   ]
  },
  {
   "cell_type": "raw",
   "metadata": {},
   "source": [
    "https://www.cms.gov/OpenPayments/Downloads/OpenPaymentsDataDictionary.pdf"
   ]
  },
  {
   "cell_type": "raw",
   "metadata": {},
   "source": [
    "https://www.cms.gov/files/document/open-payments-2020-annual-report-congress.pdf"
   ]
  },
  {
   "cell_type": "raw",
   "metadata": {},
   "source": [
    "https://openpaymentsdata.cms.gov/browse "
   ]
  },
  {
   "cell_type": "raw",
   "metadata": {},
   "source": [
    "https://www.singlecare.com/blog/medical-debt-statistics/"
   ]
  },
  {
   "cell_type": "raw",
   "metadata": {},
   "source": [
    "https://datacatalog.urban.org/dataset/debt-america-2021/resource/bd993165-b312-45e8-a91c-333f64e32520"
   ]
  },
  {
   "cell_type": "raw",
   "metadata": {},
   "source": [
    "https://data.chhs.ca.gov/dataset/hospital-inpatient-characteristics-by-patient-county-of-residence"
   ]
  },
  {
   "cell_type": "raw",
   "metadata": {},
   "source": [
    "https://beta.healthdata.gov/Hospital/COVID-19-Reported-Patient-Impact-and-Hospital-Capa/anag-cw7u"
   ]
  },
  {
   "cell_type": "code",
   "execution_count": 1,
   "metadata": {},
   "outputs": [],
   "source": [
    "import pandas as pd\n",
    "from sodapy import Socrata"
   ]
  },
  {
   "cell_type": "code",
   "execution_count": 2,
   "metadata": {},
   "outputs": [
    {
     "name": "stderr",
     "output_type": "stream",
     "text": [
      "WARNING:root:Requests made without an app_token will be subject to strict throttling limits.\n"
     ]
    }
   ],
   "source": [
    "client = Socrata(\"openpaymentsdata.cms.gov\", None)"
   ]
  },
  {
   "cell_type": "code",
   "execution_count": 3,
   "metadata": {},
   "outputs": [],
   "source": [
    "results = client.get(\"txng-a8vj\", limit=100000)\n",
    "\n",
    "# Convert to pandas DataFrame\n",
    "cms_payments_2020 = pd.DataFrame.from_records(results)"
   ]
  },
  {
   "cell_type": "code",
   "execution_count": 4,
   "metadata": {},
   "outputs": [
    {
     "data": {
      "text/html": [
       "<div>\n",
       "<style scoped>\n",
       "    .dataframe tbody tr th:only-of-type {\n",
       "        vertical-align: middle;\n",
       "    }\n",
       "\n",
       "    .dataframe tbody tr th {\n",
       "        vertical-align: top;\n",
       "    }\n",
       "\n",
       "    .dataframe thead th {\n",
       "        text-align: right;\n",
       "    }\n",
       "</style>\n",
       "<table border=\"1\" class=\"dataframe\">\n",
       "  <thead>\n",
       "    <tr style=\"text-align: right;\">\n",
       "      <th></th>\n",
       "      <th>change_type</th>\n",
       "      <th>covered_recipient_type</th>\n",
       "      <th>physician_profile_id</th>\n",
       "      <th>physician_first_name</th>\n",
       "      <th>physician_middle_name</th>\n",
       "      <th>physician_last_name</th>\n",
       "      <th>physician_name_suffix</th>\n",
       "      <th>recipient_primary_business_street_address_line1</th>\n",
       "      <th>recipient_city</th>\n",
       "      <th>recipient_state</th>\n",
       "      <th>...</th>\n",
       "      <th>name_of_drug_or_biological_or_device_or_medical_supply_5</th>\n",
       "      <th>associated_drug_or_biological_ndc_4</th>\n",
       "      <th>physician_license_state_code2</th>\n",
       "      <th>physician_license_state_code3</th>\n",
       "      <th>associated_drug_or_biological_ndc_5</th>\n",
       "      <th>name_of_third_party_entity_receiving_payment_or_transfer_of_value</th>\n",
       "      <th>physician_license_state_code4</th>\n",
       "      <th>physician_license_state_code5</th>\n",
       "      <th>recipient_postal_code</th>\n",
       "      <th>recipient_province</th>\n",
       "    </tr>\n",
       "  </thead>\n",
       "  <tbody>\n",
       "    <tr>\n",
       "      <th>0</th>\n",
       "      <td>NEW</td>\n",
       "      <td>Covered Recipient Physician</td>\n",
       "      <td>320277</td>\n",
       "      <td>TAMIKA</td>\n",
       "      <td>TRAUT</td>\n",
       "      <td>BRIERLEY</td>\n",
       "      <td>MISS</td>\n",
       "      <td>1095 WEST MAIN STREET</td>\n",
       "      <td>NEW BRITAIN</td>\n",
       "      <td>CT</td>\n",
       "      <td>...</td>\n",
       "      <td>NaN</td>\n",
       "      <td>NaN</td>\n",
       "      <td>NaN</td>\n",
       "      <td>NaN</td>\n",
       "      <td>NaN</td>\n",
       "      <td>NaN</td>\n",
       "      <td>NaN</td>\n",
       "      <td>NaN</td>\n",
       "      <td>NaN</td>\n",
       "      <td>NaN</td>\n",
       "    </tr>\n",
       "    <tr>\n",
       "      <th>1</th>\n",
       "      <td>NEW</td>\n",
       "      <td>Covered Recipient Physician</td>\n",
       "      <td>85354</td>\n",
       "      <td>FORREST</td>\n",
       "      <td>G</td>\n",
       "      <td>RINGOLD</td>\n",
       "      <td>NaN</td>\n",
       "      <td>3 MOBILE INFIRMARY CIR</td>\n",
       "      <td>MOBILE</td>\n",
       "      <td>AL</td>\n",
       "      <td>...</td>\n",
       "      <td>NaN</td>\n",
       "      <td>NaN</td>\n",
       "      <td>NaN</td>\n",
       "      <td>NaN</td>\n",
       "      <td>NaN</td>\n",
       "      <td>NaN</td>\n",
       "      <td>NaN</td>\n",
       "      <td>NaN</td>\n",
       "      <td>NaN</td>\n",
       "      <td>NaN</td>\n",
       "    </tr>\n",
       "    <tr>\n",
       "      <th>2</th>\n",
       "      <td>NEW</td>\n",
       "      <td>Covered Recipient Physician</td>\n",
       "      <td>1362025</td>\n",
       "      <td>WESTON</td>\n",
       "      <td>NaN</td>\n",
       "      <td>HICKEY</td>\n",
       "      <td>NaN</td>\n",
       "      <td>6560 FANNIN ST</td>\n",
       "      <td>HOUSTON</td>\n",
       "      <td>TX</td>\n",
       "      <td>...</td>\n",
       "      <td>NaN</td>\n",
       "      <td>NaN</td>\n",
       "      <td>NaN</td>\n",
       "      <td>NaN</td>\n",
       "      <td>NaN</td>\n",
       "      <td>NaN</td>\n",
       "      <td>NaN</td>\n",
       "      <td>NaN</td>\n",
       "      <td>NaN</td>\n",
       "      <td>NaN</td>\n",
       "    </tr>\n",
       "    <tr>\n",
       "      <th>3</th>\n",
       "      <td>NEW</td>\n",
       "      <td>Covered Recipient Physician</td>\n",
       "      <td>69389</td>\n",
       "      <td>ANDREW</td>\n",
       "      <td>R.</td>\n",
       "      <td>BARKSDALE</td>\n",
       "      <td>NaN</td>\n",
       "      <td>3800 W 203rd Street</td>\n",
       "      <td>Olympia Fields</td>\n",
       "      <td>IL</td>\n",
       "      <td>...</td>\n",
       "      <td>NaN</td>\n",
       "      <td>NaN</td>\n",
       "      <td>NaN</td>\n",
       "      <td>NaN</td>\n",
       "      <td>NaN</td>\n",
       "      <td>NaN</td>\n",
       "      <td>NaN</td>\n",
       "      <td>NaN</td>\n",
       "      <td>NaN</td>\n",
       "      <td>NaN</td>\n",
       "    </tr>\n",
       "    <tr>\n",
       "      <th>4</th>\n",
       "      <td>NEW</td>\n",
       "      <td>Covered Recipient Physician</td>\n",
       "      <td>1000187</td>\n",
       "      <td>VEENA</td>\n",
       "      <td>NaN</td>\n",
       "      <td>KUMARAVEL</td>\n",
       "      <td>NaN</td>\n",
       "      <td>2821 E PRESIDENT GEORGE BUSH HWY</td>\n",
       "      <td>RICHARDSON</td>\n",
       "      <td>TX</td>\n",
       "      <td>...</td>\n",
       "      <td>NaN</td>\n",
       "      <td>NaN</td>\n",
       "      <td>NaN</td>\n",
       "      <td>NaN</td>\n",
       "      <td>NaN</td>\n",
       "      <td>NaN</td>\n",
       "      <td>NaN</td>\n",
       "      <td>NaN</td>\n",
       "      <td>NaN</td>\n",
       "      <td>NaN</td>\n",
       "    </tr>\n",
       "  </tbody>\n",
       "</table>\n",
       "<p>5 rows × 75 columns</p>\n",
       "</div>"
      ],
      "text/plain": [
       "  change_type       covered_recipient_type physician_profile_id  \\\n",
       "0         NEW  Covered Recipient Physician               320277   \n",
       "1         NEW  Covered Recipient Physician                85354   \n",
       "2         NEW  Covered Recipient Physician              1362025   \n",
       "3         NEW  Covered Recipient Physician                69389   \n",
       "4         NEW  Covered Recipient Physician              1000187   \n",
       "\n",
       "  physician_first_name physician_middle_name physician_last_name  \\\n",
       "0               TAMIKA                 TRAUT            BRIERLEY   \n",
       "1              FORREST                     G             RINGOLD   \n",
       "2               WESTON                   NaN              HICKEY   \n",
       "3               ANDREW                    R.           BARKSDALE   \n",
       "4                VEENA                   NaN           KUMARAVEL   \n",
       "\n",
       "  physician_name_suffix recipient_primary_business_street_address_line1  \\\n",
       "0                  MISS                           1095 WEST MAIN STREET   \n",
       "1                   NaN                          3 MOBILE INFIRMARY CIR   \n",
       "2                   NaN                                  6560 FANNIN ST   \n",
       "3                   NaN                             3800 W 203rd Street   \n",
       "4                   NaN                2821 E PRESIDENT GEORGE BUSH HWY   \n",
       "\n",
       "   recipient_city recipient_state  ...  \\\n",
       "0     NEW BRITAIN              CT  ...   \n",
       "1          MOBILE              AL  ...   \n",
       "2         HOUSTON              TX  ...   \n",
       "3  Olympia Fields              IL  ...   \n",
       "4      RICHARDSON              TX  ...   \n",
       "\n",
       "  name_of_drug_or_biological_or_device_or_medical_supply_5  \\\n",
       "0                                                NaN         \n",
       "1                                                NaN         \n",
       "2                                                NaN         \n",
       "3                                                NaN         \n",
       "4                                                NaN         \n",
       "\n",
       "  associated_drug_or_biological_ndc_4 physician_license_state_code2  \\\n",
       "0                                 NaN                           NaN   \n",
       "1                                 NaN                           NaN   \n",
       "2                                 NaN                           NaN   \n",
       "3                                 NaN                           NaN   \n",
       "4                                 NaN                           NaN   \n",
       "\n",
       "  physician_license_state_code3 associated_drug_or_biological_ndc_5  \\\n",
       "0                           NaN                                 NaN   \n",
       "1                           NaN                                 NaN   \n",
       "2                           NaN                                 NaN   \n",
       "3                           NaN                                 NaN   \n",
       "4                           NaN                                 NaN   \n",
       "\n",
       "  name_of_third_party_entity_receiving_payment_or_transfer_of_value  \\\n",
       "0                                                NaN                  \n",
       "1                                                NaN                  \n",
       "2                                                NaN                  \n",
       "3                                                NaN                  \n",
       "4                                                NaN                  \n",
       "\n",
       "  physician_license_state_code4 physician_license_state_code5  \\\n",
       "0                           NaN                           NaN   \n",
       "1                           NaN                           NaN   \n",
       "2                           NaN                           NaN   \n",
       "3                           NaN                           NaN   \n",
       "4                           NaN                           NaN   \n",
       "\n",
       "  recipient_postal_code recipient_province  \n",
       "0                   NaN                NaN  \n",
       "1                   NaN                NaN  \n",
       "2                   NaN                NaN  \n",
       "3                   NaN                NaN  \n",
       "4                   NaN                NaN  \n",
       "\n",
       "[5 rows x 75 columns]"
      ]
     },
     "execution_count": 4,
     "metadata": {},
     "output_type": "execute_result"
    }
   ],
   "source": [
    "cms_payments_2020.head()"
   ]
  },
  {
   "cell_type": "code",
   "execution_count": 5,
   "metadata": {},
   "outputs": [
    {
     "data": {
      "text/plain": [
       "(100000, 75)"
      ]
     },
     "execution_count": 5,
     "metadata": {},
     "output_type": "execute_result"
    }
   ],
   "source": [
    "cms_payments_2020.shape"
   ]
  },
  {
   "cell_type": "markdown",
   "metadata": {},
   "source": [
    "## 2019 Data"
   ]
  },
  {
   "cell_type": "code",
   "execution_count": 6,
   "metadata": {},
   "outputs": [],
   "source": [
    "results = client.get(\"qsys-b88w\", limit=100000)\n",
    "\n",
    "# Convert to pandas DataFrame\n",
    "cms_payments_2019 = pd.DataFrame.from_records(results)"
   ]
  },
  {
   "cell_type": "code",
   "execution_count": 7,
   "metadata": {},
   "outputs": [
    {
     "data": {
      "text/html": [
       "<div>\n",
       "<style scoped>\n",
       "    .dataframe tbody tr th:only-of-type {\n",
       "        vertical-align: middle;\n",
       "    }\n",
       "\n",
       "    .dataframe tbody tr th {\n",
       "        vertical-align: top;\n",
       "    }\n",
       "\n",
       "    .dataframe thead th {\n",
       "        text-align: right;\n",
       "    }\n",
       "</style>\n",
       "<table border=\"1\" class=\"dataframe\">\n",
       "  <thead>\n",
       "    <tr style=\"text-align: right;\">\n",
       "      <th></th>\n",
       "      <th>change_type</th>\n",
       "      <th>covered_recipient_type</th>\n",
       "      <th>physician_profile_id</th>\n",
       "      <th>physician_first_name</th>\n",
       "      <th>physician_middle_name</th>\n",
       "      <th>physician_last_name</th>\n",
       "      <th>physician_name_suffix</th>\n",
       "      <th>recipient_primary_business_street_address_line1</th>\n",
       "      <th>recipient_city</th>\n",
       "      <th>recipient_state</th>\n",
       "      <th>...</th>\n",
       "      <th>covered_or_noncovered_indicator_5</th>\n",
       "      <th>indicate_drug_or_biological_or_device_or_medical_supply_5</th>\n",
       "      <th>product_category_or_therapeutic_area_5</th>\n",
       "      <th>name_of_drug_or_biological_or_device_or_medical_supply_5</th>\n",
       "      <th>physician_license_state_code4</th>\n",
       "      <th>physician_license_state_code5</th>\n",
       "      <th>associated_drug_or_biological_ndc_4</th>\n",
       "      <th>associated_drug_or_biological_ndc_5</th>\n",
       "      <th>recipient_province</th>\n",
       "      <th>recipient_postal_code</th>\n",
       "    </tr>\n",
       "  </thead>\n",
       "  <tbody>\n",
       "    <tr>\n",
       "      <th>0</th>\n",
       "      <td>UNCHANGED</td>\n",
       "      <td>Covered Recipient Physician</td>\n",
       "      <td>24604</td>\n",
       "      <td>JAMES</td>\n",
       "      <td>E</td>\n",
       "      <td>BROWN</td>\n",
       "      <td>JR.</td>\n",
       "      <td>729 1/2 N MAIN ST</td>\n",
       "      <td>NORTH SYRACUSE</td>\n",
       "      <td>NY</td>\n",
       "      <td>...</td>\n",
       "      <td>NaN</td>\n",
       "      <td>NaN</td>\n",
       "      <td>NaN</td>\n",
       "      <td>NaN</td>\n",
       "      <td>NaN</td>\n",
       "      <td>NaN</td>\n",
       "      <td>NaN</td>\n",
       "      <td>NaN</td>\n",
       "      <td>NaN</td>\n",
       "      <td>NaN</td>\n",
       "    </tr>\n",
       "    <tr>\n",
       "      <th>1</th>\n",
       "      <td>UNCHANGED</td>\n",
       "      <td>Covered Recipient Physician</td>\n",
       "      <td>145724</td>\n",
       "      <td>EARLANDO</td>\n",
       "      <td>O</td>\n",
       "      <td>THOMAS</td>\n",
       "      <td>NaN</td>\n",
       "      <td>2337 RIDGEWAY AVE</td>\n",
       "      <td>ROCHESTER</td>\n",
       "      <td>NY</td>\n",
       "      <td>...</td>\n",
       "      <td>NaN</td>\n",
       "      <td>NaN</td>\n",
       "      <td>NaN</td>\n",
       "      <td>NaN</td>\n",
       "      <td>NaN</td>\n",
       "      <td>NaN</td>\n",
       "      <td>NaN</td>\n",
       "      <td>NaN</td>\n",
       "      <td>NaN</td>\n",
       "      <td>NaN</td>\n",
       "    </tr>\n",
       "    <tr>\n",
       "      <th>2</th>\n",
       "      <td>UNCHANGED</td>\n",
       "      <td>Covered Recipient Physician</td>\n",
       "      <td>216332</td>\n",
       "      <td>KATHERINE</td>\n",
       "      <td>S</td>\n",
       "      <td>LAMMERS</td>\n",
       "      <td>NaN</td>\n",
       "      <td>2337 RIDGEWAY AVE</td>\n",
       "      <td>ROCHESTER</td>\n",
       "      <td>NY</td>\n",
       "      <td>...</td>\n",
       "      <td>NaN</td>\n",
       "      <td>NaN</td>\n",
       "      <td>NaN</td>\n",
       "      <td>NaN</td>\n",
       "      <td>NaN</td>\n",
       "      <td>NaN</td>\n",
       "      <td>NaN</td>\n",
       "      <td>NaN</td>\n",
       "      <td>NaN</td>\n",
       "      <td>NaN</td>\n",
       "    </tr>\n",
       "    <tr>\n",
       "      <th>3</th>\n",
       "      <td>UNCHANGED</td>\n",
       "      <td>Covered Recipient Physician</td>\n",
       "      <td>676113</td>\n",
       "      <td>ROBIN</td>\n",
       "      <td>B</td>\n",
       "      <td>BONE</td>\n",
       "      <td>NaN</td>\n",
       "      <td>2700 NAPOLEON AVE</td>\n",
       "      <td>NEW ORLEANS</td>\n",
       "      <td>LA</td>\n",
       "      <td>...</td>\n",
       "      <td>NaN</td>\n",
       "      <td>NaN</td>\n",
       "      <td>NaN</td>\n",
       "      <td>NaN</td>\n",
       "      <td>NaN</td>\n",
       "      <td>NaN</td>\n",
       "      <td>NaN</td>\n",
       "      <td>NaN</td>\n",
       "      <td>NaN</td>\n",
       "      <td>NaN</td>\n",
       "    </tr>\n",
       "    <tr>\n",
       "      <th>4</th>\n",
       "      <td>UNCHANGED</td>\n",
       "      <td>Covered Recipient Physician</td>\n",
       "      <td>424082</td>\n",
       "      <td>ARCHANA</td>\n",
       "      <td>R</td>\n",
       "      <td>PAINE</td>\n",
       "      <td>NaN</td>\n",
       "      <td>2700 NAPOLEON AVE</td>\n",
       "      <td>NEW ORLEANS</td>\n",
       "      <td>LA</td>\n",
       "      <td>...</td>\n",
       "      <td>NaN</td>\n",
       "      <td>NaN</td>\n",
       "      <td>NaN</td>\n",
       "      <td>NaN</td>\n",
       "      <td>NaN</td>\n",
       "      <td>NaN</td>\n",
       "      <td>NaN</td>\n",
       "      <td>NaN</td>\n",
       "      <td>NaN</td>\n",
       "      <td>NaN</td>\n",
       "    </tr>\n",
       "  </tbody>\n",
       "</table>\n",
       "<p>5 rows × 75 columns</p>\n",
       "</div>"
      ],
      "text/plain": [
       "  change_type       covered_recipient_type physician_profile_id  \\\n",
       "0   UNCHANGED  Covered Recipient Physician                24604   \n",
       "1   UNCHANGED  Covered Recipient Physician               145724   \n",
       "2   UNCHANGED  Covered Recipient Physician               216332   \n",
       "3   UNCHANGED  Covered Recipient Physician               676113   \n",
       "4   UNCHANGED  Covered Recipient Physician               424082   \n",
       "\n",
       "  physician_first_name physician_middle_name physician_last_name  \\\n",
       "0                JAMES                     E               BROWN   \n",
       "1             EARLANDO                     O              THOMAS   \n",
       "2            KATHERINE                     S             LAMMERS   \n",
       "3                ROBIN                     B                BONE   \n",
       "4              ARCHANA                     R               PAINE   \n",
       "\n",
       "  physician_name_suffix recipient_primary_business_street_address_line1  \\\n",
       "0                   JR.                               729 1/2 N MAIN ST   \n",
       "1                   NaN                               2337 RIDGEWAY AVE   \n",
       "2                   NaN                               2337 RIDGEWAY AVE   \n",
       "3                   NaN                               2700 NAPOLEON AVE   \n",
       "4                   NaN                               2700 NAPOLEON AVE   \n",
       "\n",
       "   recipient_city recipient_state  ... covered_or_noncovered_indicator_5  \\\n",
       "0  NORTH SYRACUSE              NY  ...                               NaN   \n",
       "1       ROCHESTER              NY  ...                               NaN   \n",
       "2       ROCHESTER              NY  ...                               NaN   \n",
       "3     NEW ORLEANS              LA  ...                               NaN   \n",
       "4     NEW ORLEANS              LA  ...                               NaN   \n",
       "\n",
       "  indicate_drug_or_biological_or_device_or_medical_supply_5  \\\n",
       "0                                                NaN          \n",
       "1                                                NaN          \n",
       "2                                                NaN          \n",
       "3                                                NaN          \n",
       "4                                                NaN          \n",
       "\n",
       "  product_category_or_therapeutic_area_5  \\\n",
       "0                                    NaN   \n",
       "1                                    NaN   \n",
       "2                                    NaN   \n",
       "3                                    NaN   \n",
       "4                                    NaN   \n",
       "\n",
       "  name_of_drug_or_biological_or_device_or_medical_supply_5  \\\n",
       "0                                                NaN         \n",
       "1                                                NaN         \n",
       "2                                                NaN         \n",
       "3                                                NaN         \n",
       "4                                                NaN         \n",
       "\n",
       "  physician_license_state_code4 physician_license_state_code5  \\\n",
       "0                           NaN                           NaN   \n",
       "1                           NaN                           NaN   \n",
       "2                           NaN                           NaN   \n",
       "3                           NaN                           NaN   \n",
       "4                           NaN                           NaN   \n",
       "\n",
       "  associated_drug_or_biological_ndc_4 associated_drug_or_biological_ndc_5  \\\n",
       "0                                 NaN                                 NaN   \n",
       "1                                 NaN                                 NaN   \n",
       "2                                 NaN                                 NaN   \n",
       "3                                 NaN                                 NaN   \n",
       "4                                 NaN                                 NaN   \n",
       "\n",
       "  recipient_province recipient_postal_code  \n",
       "0                NaN                   NaN  \n",
       "1                NaN                   NaN  \n",
       "2                NaN                   NaN  \n",
       "3                NaN                   NaN  \n",
       "4                NaN                   NaN  \n",
       "\n",
       "[5 rows x 75 columns]"
      ]
     },
     "execution_count": 7,
     "metadata": {},
     "output_type": "execute_result"
    }
   ],
   "source": [
    "cms_payments_2019.head()"
   ]
  },
  {
   "cell_type": "code",
   "execution_count": 8,
   "metadata": {},
   "outputs": [
    {
     "data": {
      "text/plain": [
       "(100000, 75)"
      ]
     },
     "execution_count": 8,
     "metadata": {},
     "output_type": "execute_result"
    }
   ],
   "source": [
    "cms_payments_2019.shape"
   ]
  },
  {
   "cell_type": "code",
   "execution_count": 11,
   "metadata": {},
   "outputs": [],
   "source": [
    "cms_payments_2019.to_csv ('cms_payments_2019.csv')"
   ]
  },
  {
   "cell_type": "code",
   "execution_count": 12,
   "metadata": {},
   "outputs": [],
   "source": [
    "cms_payments_2020.to_csv ('cms_payments_2020.csv')"
   ]
  },
  {
   "cell_type": "code",
   "execution_count": 9,
   "metadata": {},
   "outputs": [
    {
     "name": "stdout",
     "output_type": "stream",
     "text": [
      "Stored 'cms_payments_2019' (DataFrame)\n"
     ]
    }
   ],
   "source": [
    "%store cms_payments_2019"
   ]
  },
  {
   "cell_type": "code",
   "execution_count": 10,
   "metadata": {},
   "outputs": [
    {
     "name": "stdout",
     "output_type": "stream",
     "text": [
      "Stored 'cms_payments_2020' (DataFrame)\n"
     ]
    }
   ],
   "source": [
    "%store cms_payments_2020"
   ]
  },
  {
   "cell_type": "code",
   "execution_count": null,
   "metadata": {},
   "outputs": [],
   "source": []
  }
 ],
 "metadata": {
  "kernelspec": {
   "display_name": "Python 3",
   "language": "python",
   "name": "python3"
  },
  "language_info": {
   "codemirror_mode": {
    "name": "ipython",
    "version": 3
   },
   "file_extension": ".py",
   "mimetype": "text/x-python",
   "name": "python",
   "nbconvert_exporter": "python",
   "pygments_lexer": "ipython3",
   "version": "3.8.5"
  }
 },
 "nbformat": 4,
 "nbformat_minor": 5
}
